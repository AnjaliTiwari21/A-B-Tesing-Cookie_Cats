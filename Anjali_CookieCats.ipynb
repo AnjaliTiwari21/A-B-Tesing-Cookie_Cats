{
 "cells": [
  {
   "cell_type": "markdown",
   "metadata": {},
   "source": [
    "Kaggle Challenge\n",
    "\n",
    "Overview: The dataset of the Cookie Cats is from a Kaggle challenge.Its a mobile puzzle game where the same colour tiles should be connected to clear the board and win the level. After crossing various levels, there are gates placed which are usually there to show users ads or it is a paywall to purchase the app this acts as an income for the mobile puzzle game.\n",
    "\n",
    "Problem: We now consider a challenge of placing gates. Initially the control group has a gate placed on level 30, but what if we place the gate at level 40. There are chances the user might be interested to play more i.e. retention might increase for each player and increasing the traffic for the mobile game but to be confident enough we should back up our conversion rates with valid explaination or statistical analysis. To check whether placing gate is leading to more retention we perform A/B testing.\n",
    "\n",
    "The unit of diversion is a user id through which the user(experimental units) are randomly split into two different groups i.e. Control and Experiment. \n",
    "Evaluation metric or response variable chosen here is the retention of a player.This metric is used to measure the impact of your change. Retention is basically people coming back to your product to use it gain.\n",
    "\n",
    "Our interest lies in comparing means of both the control and experimental group \n",
    "\n",
    "We first start with EDA of the dataset to get a picture of what kind of data is and what it holds.\n",
    "\n",
    "\n",
    "Generate Hypothesis: \n",
    "Null Hypothesis: It states there is no difference between the control and experiment group. \n",
    "                 The conversions rates are same in both the groups.\n",
    "                 There is no statistical significanct result.\n",
    "\n",
    "Alternate Hypothesis: There is difference between the control and experiment group.\n",
    "                      Convsersion rates are different in both groups\n",
    "                      It gives Statistical Significant result\n",
    "\n",
    "\n",
    "Rejecting the Null Hypothesis\n",
    "Determine their is a difference between the treatment and control\n",
    "Statistically signicant result\n",
    "\n",
    "\n",
    "Power analysis and Significance level: Once after deciding the metrics and the hypothesis, we should check whether do we have enough data to run our A/B testing. When calculating sample size these errors should be avoided:\n",
    "<li>To avoid type I errors, you specify a significance level when calculating the sample size.\n",
    "<li>To avoid type II errors, you set the power at 0.8 or 0.9 if possible when calculating your sample size, making sure that the sample size is large enough.\n",
    "\n",
    "For this problem, We choose a confidence Interval i.e. 95% that gives us the value of alpha=0.05 and beta .\n",
    "Significance Level of the test(Alpha) =0.05\n",
    "Power level of the test( 1 - Beta) = \n",
    "\n",
    "A test having a smaller significance level and high power is desirable.\n",
    "\n",
    "The goal of power analysis is to estimate sample size using the values of alpha and beta.\n",
    "\n",
    "\n",
    "Before performing a T test, one should satisfy these conditions:\n",
    "<li>To perform a Z test, one should have a sample size greater than or equal to 30.\n",
    "<li>The experimental units( users) should be independent to each other and randomly selected from the population.\n",
    "<li>The mean and standard deviation of the population should be known.\n",
    "\n",
    "To get a significant difference for a Z test, the sample and population means are compared. It is assumed that Z test statistic has a normal distribution.\n",
    "\n",
    "Bootstrapping?\n",
    "\n",
    "\n",
    "Conclusion : If the p value is smaller than the alpha(0.05) . Then we can reject the null hypothesis\n"
   ]
  },
  {
   "cell_type": "code",
   "execution_count": 6,
   "metadata": {
    "_cell_guid": "b1076dfc-b9ad-4769-8c92-a6c4dae69d19",
    "_uuid": "8f2839f25d086af736a60e9eeb907d3b93b6e0e5",
    "collapsed": false
   },
   "outputs": [],
   "source": [
    "#Importing Libraries needed for this project\n",
    "\n",
    "import numpy as np # linear algebra\n",
    "import pandas as pd # data processing, CSV file I/O (e.g. pd.read_csv)\n",
    "import math as mt\n",
    "from __future__ import division\n",
    "\n"
   ]
  },
  {
   "cell_type": "code",
   "execution_count": 7,
   "metadata": {
    "_cell_guid": "",
    "_uuid": "",
    "collapsed": false
   },
   "outputs": [],
   "source": [
    "# Importing the dataset\n",
    "cookie_cats = pd.read_csv(\"C:/Users/VArun/Downloads/cookie_cats.csv\")"
   ]
  },
  {
   "cell_type": "markdown",
   "metadata": {},
   "source": [
    "<h1><b>Data Wrangling and Exploratory Data Analysis<b>"
   ]
  },
  {
   "cell_type": "code",
   "execution_count": 8,
   "metadata": {
    "collapsed": false
   },
   "outputs": [
    {
     "data": {
      "text/html": [
       "<div>\n",
       "<style scoped>\n",
       "    .dataframe tbody tr th:only-of-type {\n",
       "        vertical-align: middle;\n",
       "    }\n",
       "\n",
       "    .dataframe tbody tr th {\n",
       "        vertical-align: top;\n",
       "    }\n",
       "\n",
       "    .dataframe thead th {\n",
       "        text-align: right;\n",
       "    }\n",
       "</style>\n",
       "<table border=\"1\" class=\"dataframe\">\n",
       "  <thead>\n",
       "    <tr style=\"text-align: right;\">\n",
       "      <th></th>\n",
       "      <th>userid</th>\n",
       "      <th>version</th>\n",
       "      <th>sum_gamerounds</th>\n",
       "      <th>retention_1</th>\n",
       "      <th>retention_7</th>\n",
       "    </tr>\n",
       "  </thead>\n",
       "  <tbody>\n",
       "    <tr>\n",
       "      <th>0</th>\n",
       "      <td>116</td>\n",
       "      <td>gate_30</td>\n",
       "      <td>3</td>\n",
       "      <td>False</td>\n",
       "      <td>False</td>\n",
       "    </tr>\n",
       "    <tr>\n",
       "      <th>1</th>\n",
       "      <td>337</td>\n",
       "      <td>gate_30</td>\n",
       "      <td>38</td>\n",
       "      <td>True</td>\n",
       "      <td>False</td>\n",
       "    </tr>\n",
       "    <tr>\n",
       "      <th>2</th>\n",
       "      <td>377</td>\n",
       "      <td>gate_40</td>\n",
       "      <td>165</td>\n",
       "      <td>True</td>\n",
       "      <td>False</td>\n",
       "    </tr>\n",
       "    <tr>\n",
       "      <th>3</th>\n",
       "      <td>483</td>\n",
       "      <td>gate_40</td>\n",
       "      <td>1</td>\n",
       "      <td>False</td>\n",
       "      <td>False</td>\n",
       "    </tr>\n",
       "    <tr>\n",
       "      <th>4</th>\n",
       "      <td>488</td>\n",
       "      <td>gate_40</td>\n",
       "      <td>179</td>\n",
       "      <td>True</td>\n",
       "      <td>True</td>\n",
       "    </tr>\n",
       "    <tr>\n",
       "      <th>5</th>\n",
       "      <td>540</td>\n",
       "      <td>gate_40</td>\n",
       "      <td>187</td>\n",
       "      <td>True</td>\n",
       "      <td>True</td>\n",
       "    </tr>\n",
       "    <tr>\n",
       "      <th>6</th>\n",
       "      <td>1066</td>\n",
       "      <td>gate_30</td>\n",
       "      <td>0</td>\n",
       "      <td>False</td>\n",
       "      <td>False</td>\n",
       "    </tr>\n",
       "    <tr>\n",
       "      <th>7</th>\n",
       "      <td>1444</td>\n",
       "      <td>gate_40</td>\n",
       "      <td>2</td>\n",
       "      <td>False</td>\n",
       "      <td>False</td>\n",
       "    </tr>\n",
       "    <tr>\n",
       "      <th>8</th>\n",
       "      <td>1574</td>\n",
       "      <td>gate_40</td>\n",
       "      <td>108</td>\n",
       "      <td>True</td>\n",
       "      <td>True</td>\n",
       "    </tr>\n",
       "    <tr>\n",
       "      <th>9</th>\n",
       "      <td>1587</td>\n",
       "      <td>gate_40</td>\n",
       "      <td>153</td>\n",
       "      <td>True</td>\n",
       "      <td>False</td>\n",
       "    </tr>\n",
       "  </tbody>\n",
       "</table>\n",
       "</div>"
      ],
      "text/plain": [
       "   userid  version  sum_gamerounds  retention_1  retention_7\n",
       "0     116  gate_30               3        False        False\n",
       "1     337  gate_30              38         True        False\n",
       "2     377  gate_40             165         True        False\n",
       "3     483  gate_40               1        False        False\n",
       "4     488  gate_40             179         True         True\n",
       "5     540  gate_40             187         True         True\n",
       "6    1066  gate_30               0        False        False\n",
       "7    1444  gate_40               2        False        False\n",
       "8    1574  gate_40             108         True         True\n",
       "9    1587  gate_40             153         True        False"
      ]
     },
     "execution_count": 8,
     "metadata": {},
     "output_type": "execute_result"
    }
   ],
   "source": [
    "#Checking what kind of data is stored\n",
    "cookie_cats[0:10]"
   ]
  },
  {
   "cell_type": "raw",
   "metadata": {},
   "source": [
    "The dataset contains 5 variables. Let's see what each variable holds.\n",
    "<li>**userid**          A unique number that identifies each player.</li>\n",
    "<li>**version**         Whether the player was put in the control group (gate_30 - a gate at level 30) or the group      with the moved gate (gate_40 - a gate at level 40).</li>\n",
    "<li>**sum_gamerounds**  The number of game rounds played by the player during the first 14 days after install.</li>\n",
    "<li>**retention_1D**    id the player come back and play 1 day after installing?</li>\n",
    "<li>**retention_7D**    id the player come back and play 7 days after installing?</li>"
   ]
  },
  {
   "cell_type": "code",
   "execution_count": 9,
   "metadata": {
    "collapsed": false
   },
   "outputs": [
    {
     "data": {
      "text/plain": [
       "userid            90189\n",
       "version           90189\n",
       "sum_gamerounds    90189\n",
       "retention_1       90189\n",
       "retention_7       90189\n",
       "dtype: int64"
      ]
     },
     "execution_count": 9,
     "metadata": {},
     "output_type": "execute_result"
    }
   ],
   "source": [
    "#Checking if any null data is present\n",
    "cookie_cats.notnull().count()"
   ]
  },
  {
   "cell_type": "code",
   "execution_count": 10,
   "metadata": {
    "collapsed": false
   },
   "outputs": [
    {
     "data": {
      "text/plain": [
       "90189"
      ]
     },
     "execution_count": 10,
     "metadata": {},
     "output_type": "execute_result"
    }
   ],
   "source": [
    "#To check whether any userid is duplicate\n",
    "cookie_cats.userid.nunique()"
   ]
  },
  {
   "cell_type": "code",
   "execution_count": 11,
   "metadata": {
    "collapsed": false
   },
   "outputs": [
    {
     "name": "stdout",
     "output_type": "stream",
     "text": [
      "<class 'pandas.core.frame.DataFrame'>\n",
      "RangeIndex: 90189 entries, 0 to 90188\n",
      "Data columns (total 5 columns):\n",
      "userid            90189 non-null int64\n",
      "version           90189 non-null object\n",
      "sum_gamerounds    90189 non-null int64\n",
      "retention_1       90189 non-null bool\n",
      "retention_7       90189 non-null bool\n",
      "dtypes: bool(2), int64(2), object(1)\n",
      "memory usage: 2.2+ MB\n"
     ]
    }
   ],
   "source": [
    "cookie_cats.info()"
   ]
  },
  {
   "cell_type": "markdown",
   "metadata": {},
   "source": [
    "From the above data, it can be seen that:\n",
    "<li>The values in the dataset do not have any null values.\n",
    "<li> The userid contains all unique ids\n",
    "<li>The sum_gamerounds variable is an integer value while retention_1 and retention_7 are boolean variables( 1 or 0 ; True or False)\n",
    "<li>version is a categorical variable"
   ]
  },
  {
   "cell_type": "code",
   "execution_count": 12,
   "metadata": {
    "collapsed": false
   },
   "outputs": [
    {
     "data": {
      "text/plain": [
       "<matplotlib.figure.Figure at 0x12ad8eb8>"
      ]
     },
     "execution_count": 12,
     "metadata": {},
     "output_type": "execute_result"
    },
    {
     "data": {
      "image/png": "[encoded data removed]",
      "text/plain": [
       "<matplotlib.figure.Figure at 0x132ce5c0>"
      ]
     },
     "metadata": {},
     "output_type": "display_data"
    },
    {
     "data": {
      "text/plain": [
       "<matplotlib.figure.Figure at 0x12ad8eb8>"
      ]
     },
     "metadata": {},
     "output_type": "display_data"
    }
   ],
   "source": [
    "#Let's check for outliers in a numerical variable\n",
    "import matplotlib.pyplot as plt\n",
    "%matplotlib inline\n",
    "\n",
    "plt.scatter(cookie_cats.userid,cookie_cats['sum_gamerounds'], c = \"blue\", marker = \"s\")\n",
    "plt.figure()"
   ]
  },
  {
   "cell_type": "code",
   "execution_count": 13,
   "metadata": {
    "collapsed": false
   },
   "outputs": [
    {
     "data": {
      "text/plain": [
       "<matplotlib.figure.Figure at 0x43d6f98>"
      ]
     },
     "execution_count": 13,
     "metadata": {},
     "output_type": "execute_result"
    },
    {
     "data": {
      "image/png": "[encoded data removed]",
      "text/plain": [
       "<matplotlib.figure.Figure at 0x12ad8978>"
      ]
     },
     "metadata": {},
     "output_type": "display_data"
    },
    {
     "data": {
      "text/plain": [
       "<matplotlib.figure.Figure at 0x43d6f98>"
      ]
     },
     "metadata": {},
     "output_type": "display_data"
    }
   ],
   "source": [
    "#From the above figure it can be seen there is an outlier present in the data.\n",
    "#The values of outliers gives us an incorrect information if used in analysis. It's better to get rid of it.\n",
    "cookie_cats=cookie_cats[cookie_cats['sum_gamerounds']<40000]\n",
    "plt.scatter(cookie_cats.userid,cookie_cats['sum_gamerounds'], c = \"blue\", marker = \"s\")\n",
    "plt.figure()\n"
   ]
  },
  {
   "cell_type": "code",
   "execution_count": 14,
   "metadata": {
    "collapsed": false
   },
   "outputs": [
    {
     "data": {
      "text/html": [
       "<div>\n",
       "<style scoped>\n",
       "    .dataframe tbody tr th:only-of-type {\n",
       "        vertical-align: middle;\n",
       "    }\n",
       "\n",
       "    .dataframe tbody tr th {\n",
       "        vertical-align: top;\n",
       "    }\n",
       "\n",
       "    .dataframe thead th {\n",
       "        text-align: right;\n",
       "    }\n",
       "</style>\n",
       "<table border=\"1\" class=\"dataframe\">\n",
       "  <thead>\n",
       "    <tr style=\"text-align: right;\">\n",
       "      <th></th>\n",
       "      <th>version</th>\n",
       "      <th>Total_Games_Played</th>\n",
       "      <th>Total_Users</th>\n",
       "      <th>Average</th>\n",
       "      <th>Min_value</th>\n",
       "      <th>Max_value</th>\n",
       "    </tr>\n",
       "  </thead>\n",
       "  <tbody>\n",
       "    <tr>\n",
       "      <th>0</th>\n",
       "      <td>gate_30</td>\n",
       "      <td>2294941</td>\n",
       "      <td>44699</td>\n",
       "      <td>51.342111</td>\n",
       "      <td>0</td>\n",
       "      <td>2961</td>\n",
       "    </tr>\n",
       "    <tr>\n",
       "      <th>1</th>\n",
       "      <td>gate_40</td>\n",
       "      <td>2333530</td>\n",
       "      <td>45489</td>\n",
       "      <td>51.298776</td>\n",
       "      <td>0</td>\n",
       "      <td>2640</td>\n",
       "    </tr>\n",
       "  </tbody>\n",
       "</table>\n",
       "</div>"
      ],
      "text/plain": [
       "   version  Total_Games_Played  Total_Users    Average  Min_value  Max_value\n",
       "0  gate_30             2294941        44699  51.342111          0       2961\n",
       "1  gate_40             2333530        45489  51.298776          0       2640"
      ]
     },
     "execution_count": 14,
     "metadata": {},
     "output_type": "execute_result"
    }
   ],
   "source": [
    "# Summary Statistics for the each version \n",
    "cookie_cats.groupby('version')['sum_gamerounds'].agg(['sum','count','mean','min','max']).reset_index().rename(columns={'sum':'Total_Games_Played','count':'Total_Users', 'mean':'Average', 'min':'Min_value','max':'Max_value'})"
   ]
  },
  {
   "cell_type": "markdown",
   "metadata": {},
   "source": [
    "This table tells gives us: \n",
    "<li>sum_gamesplayed: The total games played in each variant\n",
    "<li>Total_users: Total number of users who played games\n",
    "<li>The average number of games played by a user in each variant which is nearly same for the experiment and control group\n",
    "<li> The min and max values of games which is played by a user"
   ]
  },
  {
   "cell_type": "code",
   "execution_count": 130,
   "metadata": {
    "collapsed": false
   },
   "outputs": [
    {
     "data": {
      "image/png": "[encoded data removed]",
      "text/plain": [
       "<matplotlib.figure.Figure at 0x152f06d8>"
      ]
     },
     "metadata": {},
     "output_type": "display_data"
    }
   ],
   "source": [
    "# The sample size is almost same or the total number of users are nearly same\n",
    "cookie_cats['version'].value_counts().plot(kind='bar', figsize=(4,4));"
   ]
  },
  {
   "cell_type": "markdown",
   "metadata": {},
   "source": [
    "The main aim of this analysis is to understand when the user retention is more and for which group considering the gate placed. But, I wanted to check how many games a user usually plays."
   ]
  },
  {
   "cell_type": "code",
   "execution_count": 16,
   "metadata": {
    "collapsed": false
   },
   "outputs": [
    {
     "data": {
      "text/html": [
       "<div>\n",
       "<style scoped>\n",
       "    .dataframe tbody tr th:only-of-type {\n",
       "        vertical-align: middle;\n",
       "    }\n",
       "\n",
       "    .dataframe tbody tr th {\n",
       "        vertical-align: top;\n",
       "    }\n",
       "\n",
       "    .dataframe thead th {\n",
       "        text-align: right;\n",
       "    }\n",
       "</style>\n",
       "<table border=\"1\" class=\"dataframe\">\n",
       "  <thead>\n",
       "    <tr style=\"text-align: right;\">\n",
       "      <th></th>\n",
       "      <th>sum_gamerounds</th>\n",
       "      <th>Total_users</th>\n",
       "    </tr>\n",
       "  </thead>\n",
       "  <tbody>\n",
       "    <tr>\n",
       "      <th>0</th>\n",
       "      <td>0</td>\n",
       "      <td>3994</td>\n",
       "    </tr>\n",
       "    <tr>\n",
       "      <th>1</th>\n",
       "      <td>1</td>\n",
       "      <td>5538</td>\n",
       "    </tr>\n",
       "    <tr>\n",
       "      <th>2</th>\n",
       "      <td>2</td>\n",
       "      <td>4606</td>\n",
       "    </tr>\n",
       "    <tr>\n",
       "      <th>3</th>\n",
       "      <td>3</td>\n",
       "      <td>3958</td>\n",
       "    </tr>\n",
       "    <tr>\n",
       "      <th>4</th>\n",
       "      <td>4</td>\n",
       "      <td>3629</td>\n",
       "    </tr>\n",
       "    <tr>\n",
       "      <th>5</th>\n",
       "      <td>5</td>\n",
       "      <td>2992</td>\n",
       "    </tr>\n",
       "    <tr>\n",
       "      <th>6</th>\n",
       "      <td>6</td>\n",
       "      <td>2861</td>\n",
       "    </tr>\n",
       "    <tr>\n",
       "      <th>7</th>\n",
       "      <td>7</td>\n",
       "      <td>2379</td>\n",
       "    </tr>\n",
       "    <tr>\n",
       "      <th>8</th>\n",
       "      <td>8</td>\n",
       "      <td>2267</td>\n",
       "    </tr>\n",
       "    <tr>\n",
       "      <th>9</th>\n",
       "      <td>9</td>\n",
       "      <td>2013</td>\n",
       "    </tr>\n",
       "    <tr>\n",
       "      <th>10</th>\n",
       "      <td>10</td>\n",
       "      <td>1752</td>\n",
       "    </tr>\n",
       "    <tr>\n",
       "      <th>11</th>\n",
       "      <td>11</td>\n",
       "      <td>1654</td>\n",
       "    </tr>\n",
       "    <tr>\n",
       "      <th>12</th>\n",
       "      <td>12</td>\n",
       "      <td>1570</td>\n",
       "    </tr>\n",
       "    <tr>\n",
       "      <th>13</th>\n",
       "      <td>13</td>\n",
       "      <td>1594</td>\n",
       "    </tr>\n",
       "    <tr>\n",
       "      <th>14</th>\n",
       "      <td>14</td>\n",
       "      <td>1519</td>\n",
       "    </tr>\n",
       "    <tr>\n",
       "      <th>15</th>\n",
       "      <td>15</td>\n",
       "      <td>1446</td>\n",
       "    </tr>\n",
       "    <tr>\n",
       "      <th>16</th>\n",
       "      <td>16</td>\n",
       "      <td>1342</td>\n",
       "    </tr>\n",
       "    <tr>\n",
       "      <th>17</th>\n",
       "      <td>17</td>\n",
       "      <td>1269</td>\n",
       "    </tr>\n",
       "    <tr>\n",
       "      <th>18</th>\n",
       "      <td>18</td>\n",
       "      <td>1228</td>\n",
       "    </tr>\n",
       "    <tr>\n",
       "      <th>19</th>\n",
       "      <td>19</td>\n",
       "      <td>1158</td>\n",
       "    </tr>\n",
       "    <tr>\n",
       "      <th>20</th>\n",
       "      <td>20</td>\n",
       "      <td>1033</td>\n",
       "    </tr>\n",
       "    <tr>\n",
       "      <th>21</th>\n",
       "      <td>21</td>\n",
       "      <td>1032</td>\n",
       "    </tr>\n",
       "    <tr>\n",
       "      <th>22</th>\n",
       "      <td>22</td>\n",
       "      <td>934</td>\n",
       "    </tr>\n",
       "    <tr>\n",
       "      <th>23</th>\n",
       "      <td>23</td>\n",
       "      <td>879</td>\n",
       "    </tr>\n",
       "    <tr>\n",
       "      <th>24</th>\n",
       "      <td>24</td>\n",
       "      <td>794</td>\n",
       "    </tr>\n",
       "    <tr>\n",
       "      <th>25</th>\n",
       "      <td>25</td>\n",
       "      <td>792</td>\n",
       "    </tr>\n",
       "    <tr>\n",
       "      <th>26</th>\n",
       "      <td>26</td>\n",
       "      <td>689</td>\n",
       "    </tr>\n",
       "    <tr>\n",
       "      <th>27</th>\n",
       "      <td>27</td>\n",
       "      <td>723</td>\n",
       "    </tr>\n",
       "    <tr>\n",
       "      <th>28</th>\n",
       "      <td>28</td>\n",
       "      <td>662</td>\n",
       "    </tr>\n",
       "    <tr>\n",
       "      <th>29</th>\n",
       "      <td>29</td>\n",
       "      <td>613</td>\n",
       "    </tr>\n",
       "  </tbody>\n",
       "</table>\n",
       "</div>"
      ],
      "text/plain": [
       "    sum_gamerounds  Total_users\n",
       "0                0         3994\n",
       "1                1         5538\n",
       "2                2         4606\n",
       "3                3         3958\n",
       "4                4         3629\n",
       "5                5         2992\n",
       "6                6         2861\n",
       "7                7         2379\n",
       "8                8         2267\n",
       "9                9         2013\n",
       "10              10         1752\n",
       "11              11         1654\n",
       "12              12         1570\n",
       "13              13         1594\n",
       "14              14         1519\n",
       "15              15         1446\n",
       "16              16         1342\n",
       "17              17         1269\n",
       "18              18         1228\n",
       "19              19         1158\n",
       "20              20         1033\n",
       "21              21         1032\n",
       "22              22          934\n",
       "23              23          879\n",
       "24              24          794\n",
       "25              25          792\n",
       "26              26          689\n",
       "27              27          723\n",
       "28              28          662\n",
       "29              29          613"
      ]
     },
     "execution_count": 16,
     "metadata": {},
     "output_type": "execute_result"
    }
   ],
   "source": [
    "# Here we group the data as per the games played and the number of users who played it.\n",
    "plot_gamerounds=cookie_cats.groupby('sum_gamerounds')['userid'].count().reset_index().rename(columns={'userid':'Total_users'})\n",
    "plot_gamerounds.head(30)"
   ]
  },
  {
   "cell_type": "code",
   "execution_count": 17,
   "metadata": {
    "collapsed": false
   },
   "outputs": [
    {
     "data": {
      "text/plain": [
       "<matplotlib.text.Text at 0x14d75e10>"
      ]
     },
     "execution_count": 17,
     "metadata": {},
     "output_type": "execute_result"
    },
    {
     "data": {
      "image/png": "[encoded data removed]",
      "text/plain": [
       "<matplotlib.figure.Figure at 0x12ad8da0>"
      ]
     },
     "metadata": {},
     "output_type": "display_data"
    }
   ],
   "source": [
    "# Now Plotting the same table in a graph but the total rounds played is 20.\n",
    "ax = plot_gamerounds.head(20).plot(x='sum_gamerounds', y='Total_users')\n",
    "ax.set_xlabel(\"Total Game Rounds Played\")\n",
    "ax.set_ylabel(\"Total Number of Users\")\n",
    "ax.set_title(\"Games played by a User\")"
   ]
  },
  {
   "cell_type": "code",
   "execution_count": 131,
   "metadata": {
    "collapsed": false
   },
   "outputs": [
    {
     "data": {
      "text/plain": [
       "<matplotlib.text.Text at 0x17bb02e8>"
      ]
     },
     "execution_count": 131,
     "metadata": {},
     "output_type": "execute_result"
    },
    {
     "data": {
      "image/png": "[encoded data removed]",
      "text/plain": [
       "<matplotlib.figure.Figure at 0x179ef160>"
      ]
     },
     "metadata": {},
     "output_type": "display_data"
    }
   ],
   "source": [
    "# Now Plotting the same table in a graph but the total rounds played is 200.\n",
    "ax = plot_gamerounds.head(200).plot(x='sum_gamerounds', y='Total_users')\n",
    "ax.set_xlabel(\"Total Game Rounds Played\")\n",
    "ax.set_ylabel(\"Total Number of Users\")\n",
    "ax.set_title(\"Games played by a User\")"
   ]
  },
  {
   "cell_type": "code",
   "execution_count": 19,
   "metadata": {
    "collapsed": false
   },
   "outputs": [
    {
     "data": {
      "text/plain": [
       "<matplotlib.axes._subplots.AxesSubplot at 0x14dd74e0>"
      ]
     },
     "execution_count": 19,
     "metadata": {},
     "output_type": "execute_result"
    },
    {
     "data": {
      "image/png": "[encoded data removed]",
      "text/plain": [
       "<matplotlib.figure.Figure at 0x14d6ab38>"
      ]
     },
     "metadata": {},
     "output_type": "display_data"
    }
   ],
   "source": [
    "# This graph checks the number of true and false values for column 'retention_1' for both the Control and Experiment group\n",
    "cookie_cats.groupby('version')['retention_1'].value_counts().plot(kind='pie', figsize=(6,6))"
   ]
  },
  {
   "cell_type": "code",
   "execution_count": 20,
   "metadata": {
    "collapsed": false
   },
   "outputs": [
    {
     "data": {
      "text/plain": [
       "<matplotlib.axes._subplots.AxesSubplot at 0x14ded9e8>"
      ]
     },
     "execution_count": 20,
     "metadata": {},
     "output_type": "execute_result"
    },
    {
     "data": {
      "image/png": "[encoded data removed]",
      "text/plain": [
       "<matplotlib.figure.Figure at 0x12ad88d0>"
      ]
     },
     "metadata": {},
     "output_type": "display_data"
    }
   ],
   "source": [
    "# This graph checks the number of true and false values for column 'retention_7' for both the Control and Experiment group\n",
    "cookie_cats.groupby('version')['retention_7'].value_counts().plot(kind='pie', figsize=(6,6))"
   ]
  },
  {
   "cell_type": "markdown",
   "metadata": {},
   "source": [
    "The above pie graph is showing the retention on day 1 is more as compared to day 7 for both the control and experiment groups. Now, lets get a value i.e. conversion rates for day 1 retention and day 7 retention because the graph isn't showing a satisfied image because of the difference which is very less."
   ]
  },
  {
   "cell_type": "markdown",
   "metadata": {},
   "source": [
    "<b>We then calculated the convention rate for each variation.</b>\n",
    "\n",
    "Before getting the conversion rates. Let's understand what variant is?\n",
    "<br>Variant is a change which we are planning to test with comparison to the default website.\n",
    "In this case we test that at which game level we should introduce the gate so that the retention rate is higher i.e. user plays the game again."
   ]
  },
  {
   "cell_type": "markdown",
   "metadata": {},
   "source": [
    "<b> Day 1 Retention for Control and Experiment Group <b>"
   ]
  },
  {
   "cell_type": "code",
   "execution_count": 149,
   "metadata": {
    "collapsed": false
   },
   "outputs": [
    {
     "name": "stdout",
     "output_type": "stream",
     "text": [
      "The proportion of retention after day 1 for Control group is 0.4482\n",
      "The percentage of retention after day 1 for Control group is 44.82%\n"
     ]
    }
   ],
   "source": [
    "#Lets look at the conversion rate for the day 1 retention for gate_30 i.e. Control Group\n",
    "retention_day_1=cookie_cats.groupby('version')['retention_1'].sum() \n",
    "user_table_day1=cookie_cats.groupby('version')['userid'].count()\n",
    "retention_gate_30_day1=round((retention_day_1['gate_30']/user_table_day1['gate_30']),4)\n",
    "perc_retention_gate_30=round(retention_gate_30_day1*100,2)\n",
    "print('The proportion of retention after day 1 for Control group is %s' %retention_gate_30_day1)\n",
    "print('The percentage of retention after day 1 for Control group is %s%%' %perc_retention_gate_30)"
   ]
  },
  {
   "cell_type": "code",
   "execution_count": 22,
   "metadata": {
    "collapsed": false
   },
   "outputs": [
    {
     "data": {
      "text/plain": [
       "version\n",
       "gate_30    20034.0\n",
       "gate_40    20119.0\n",
       "Name: retention_1, dtype: float64"
      ]
     },
     "execution_count": 22,
     "metadata": {},
     "output_type": "execute_result"
    }
   ],
   "source": [
    "retention_day_1"
   ]
  },
  {
   "cell_type": "code",
   "execution_count": 150,
   "metadata": {
    "collapsed": false
   },
   "outputs": [
    {
     "name": "stdout",
     "output_type": "stream",
     "text": [
      "The proportion of retention after day 1 for Experiment group is 0.4423\n",
      "The percentage of retention after day 1 for Experiment group is 44.23%\n"
     ]
    }
   ],
   "source": [
    "#Lets look at the conversion rate for the day 1 retention for gate_40 i.e. Experiment Group\n",
    "retention_gate_40_day1=round((retention_day_1['gate_40']/user_table_day1['gate_40']),4)\n",
    "perc_retention_gate_40=round(retention_gate_40_day1*100,2)\n",
    "#perc_retention_gate_40\n",
    "print('The proportion of retention after day 1 for Experiment group is %s' %retention_gate_40_day1)\n",
    "print('The percentage of retention after day 1 for Experiment group is %s%%' %perc_retention_gate_40)"
   ]
  },
  {
   "cell_type": "markdown",
   "metadata": {},
   "source": [
    "<b> Day 7 Retention for Control and Experiment Group </b>"
   ]
  },
  {
   "cell_type": "code",
   "execution_count": 151,
   "metadata": {
    "collapsed": false
   },
   "outputs": [
    {
     "name": "stdout",
     "output_type": "stream",
     "text": [
      "The proportion of retention after day 7 for Control group is 0.19018322557551623\n",
      "The percentage of retention after day 7 for Control group is 19.02%\n"
     ]
    }
   ],
   "source": [
    "#Lets look at the conversion rate for the day 7 retention for gate_30 i.e. Control Group\n",
    "retention_day_7=cookie_cats.groupby('version')['retention_7'].sum() \n",
    "user_table_day7=cookie_cats.groupby('version')['userid'].count()\n",
    "retention_gate_30_day7=(retention_day_7['gate_30']/user_table_day7['gate_30'])\n",
    "perc_retention_gate_30_day7=round(retention_gate_30_day7*100,2)\n",
    "print('The proportion of retention after day 7 for Control group is %s' %retention_gate_30_day7)\n",
    "print('The percentage of retention after day 7 for Control group is %s%%' %perc_retention_gate_30_day7)"
   ]
  },
  {
   "cell_type": "code",
   "execution_count": 154,
   "metadata": {
    "collapsed": false
   },
   "outputs": [
    {
     "name": "stdout",
     "output_type": "stream",
     "text": [
      "The proportion of retention after day 7 for Experiment group is 0.18200004396667327 \n",
      "The percentage of retention after day 7 for Experiment group is 18.2%\n"
     ]
    }
   ],
   "source": [
    "#Lets look at the conversion rate for the day 1 retention for gate_40 i.e. Experiment Group\n",
    "retention_gate_40_day7=(retention_day_7['gate_40']/user_table_day7['gate_40'])\n",
    "perc_retention_gate_40_day7=round(retention_gate_40_day7*100,2)\n",
    "#perc_retention_gate_40\n",
    "print('The proportion of retention after day 7 for Experiment group is %s ' %retention_gate_40_day7)\n",
    "print('The percentage of retention after day 7 for Experiment group is %s%%' %perc_retention_gate_40_day7)"
   ]
  },
  {
   "cell_type": "code",
   "execution_count": 28,
   "metadata": {
    "collapsed": false
   },
   "outputs": [
    {
     "data": {
      "text/plain": [
       "version\n",
       "gate_30    8501.0\n",
       "gate_40    8279.0\n",
       "Name: retention_7, dtype: float64"
      ]
     },
     "execution_count": 28,
     "metadata": {},
     "output_type": "execute_result"
    }
   ],
   "source": [
    "retention_day_7"
   ]
  },
  {
   "cell_type": "markdown",
   "metadata": {},
   "source": [
    "From the above retention it could be seen that retention rates are higher in the control group. Also, retention rate is much higher for day 1 as compared to day 7. But this could be by chance,we need to be sure that this did not happen by chance. The situation isn’t as clear as you might think because we’re analyzing a sample instead of the full population.There are huge benefits when working with samples because it is usually impossible to collect data from an entire population. However, the tradeoff for working with a manageable sample is that we need to account for sample error. The sampling error is the gap between the sample statistic and the population parameter."
   ]
  },
  {
   "cell_type": "markdown",
   "metadata": {
    "collapsed": false
   },
   "source": [
    "<h2> Let's Start with th A/B Testing </h2>"
   ]
  },
  {
   "cell_type": "markdown",
   "metadata": {},
   "source": [
    "Hypothesis testing is a form of inferential statistics that allows us to draw conclusions about an entire population based on a representative sample.\n",
    "\n",
    "Gate Level: Control (Gate_30) and Experiment (Gate_40)\n",
    "\n",
    "Questions before making any changes or trying A/B testing:\n",
    "<li>Will introducing the paywall or ads at gate_40 will bring the users back or retention rate higher?\n",
    "<li> Is retention at different days make any difference?\n"
   ]
  },
  {
   "cell_type": "markdown",
   "metadata": {},
   "source": [
    "To calculate the Marginal Error:\n",
    "<li> Calculate the pooled Standard Error\n",
    "<li> The value of z which is the store statistic"
   ]
  },
  {
   "cell_type": "code",
   "execution_count": 106,
   "metadata": {
    "collapsed": false
   },
   "outputs": [
    {
     "data": {
      "text/plain": [
       "0.4452144409455803"
      ]
     },
     "execution_count": 106,
     "metadata": {},
     "output_type": "execute_result"
    }
   ],
   "source": [
    "p_pool_day1 = (retention_day_1['gate_30'] + retention_day_1['gate_40'])/(user_table_day1['gate_30']+user_table_day1['gate_40'])\n",
    "p_pool_day1\n"
   ]
  },
  {
   "cell_type": "code",
   "execution_count": 155,
   "metadata": {
    "collapsed": false
   },
   "outputs": [
    {
     "data": {
      "text/plain": [
       "0.0033"
      ]
     },
     "execution_count": 155,
     "metadata": {},
     "output_type": "execute_result"
    }
   ],
   "source": [
    "se_pool_day1=round(mt.sqrt(p_pool_day1*(1-p_pool_day1)*(1/user_table_day1['gate_30']+ 1/user_table_day1['gate_40'])),4)\n",
    "se_pool_day1\n"
   ]
  },
  {
   "cell_type": "code",
   "execution_count": 156,
   "metadata": {
    "collapsed": false
   },
   "outputs": [
    {
     "data": {
      "text/plain": [
       "0.0065"
      ]
     },
     "execution_count": 156,
     "metadata": {},
     "output_type": "execute_result"
    }
   ],
   "source": [
    "# For 95% confidence interval the value of Z is 1.96 either we can use Z score table or we can use scipy package to calculate it\n",
    "alpha=0.05\n",
    "z=round(norm.ppf(1-alpha/2),2)\n",
    "#Marginal Error calculation\n",
    "Marginal_Error=round((z*se_pool_day1),4)\n",
    "Marginal_Error"
   ]
  },
  {
   "cell_type": "code",
   "execution_count": 114,
   "metadata": {
    "collapsed": false
   },
   "outputs": [
    {
     "data": {
      "text/plain": [
       "-0.0059"
      ]
     },
     "execution_count": 114,
     "metadata": {},
     "output_type": "execute_result"
    }
   ],
   "source": [
    "#The mean difference in the samples\n",
    "p_difference = round((retention_gate_40_day1-retention_gate_30_day1),4)\n",
    "p_difference"
   ]
  },
  {
   "cell_type": "code",
   "execution_count": 115,
   "metadata": {
    "collapsed": false
   },
   "outputs": [
    {
     "name": "stdout",
     "output_type": "stream",
     "text": [
      "The confidence interval is (-0.0124, 0.0006)\n"
     ]
    }
   ],
   "source": [
    "print (\"The confidence interval is (%s, %s)\" %(p_difference-Marginal_Error,p_difference+Marginal_Error))"
   ]
  },
  {
   "cell_type": "code",
   "execution_count": 116,
   "metadata": {
    "collapsed": false
   },
   "outputs": [
    {
     "data": {
      "text/plain": [
       "-0.0124"
      ]
     },
     "execution_count": 116,
     "metadata": {},
     "output_type": "execute_result"
    }
   ],
   "source": [
    "t_statistic=p_difference-Marginal_Error\n",
    "t_statistic"
   ]
  },
  {
   "cell_type": "code",
   "execution_count": 158,
   "metadata": {
    "collapsed": false
   },
   "outputs": [
    {
     "name": "stdout",
     "output_type": "stream",
     "text": [
      "Control ia better than the Experiment. Hence, No need to make changes. \n"
     ]
    }
   ],
   "source": [
    "if t_statistic>0.05:\n",
    "    print(\"Experiment performed better than control. It is statistically and practically significant\")\n",
    "elif t_statistic>0:\n",
    "    print(\"Experiment performed better than control.It is statistically significant but not practically\")\n",
    "elif t_statistic<0:\n",
    "    print(\"Control ia better than the Experiment. Hence, No need to make changes. \")"
   ]
  },
  {
   "cell_type": "code",
   "execution_count": 159,
   "metadata": {
    "collapsed": false
   },
   "outputs": [
    {
     "data": {
      "text/plain": [
       "-1.79"
      ]
     },
     "execution_count": 159,
     "metadata": {},
     "output_type": "execute_result"
    }
   ],
   "source": [
    "#cohen's d\n",
    "d=round((p_difference/se_pool_day1),2)\n",
    "d"
   ]
  },
  {
   "cell_type": "markdown",
   "metadata": {},
   "source": [
    "<b>Day 7 Statistical Analysis<b>"
   ]
  },
  {
   "cell_type": "code",
   "execution_count": 119,
   "metadata": {
    "collapsed": false
   },
   "outputs": [
    {
     "data": {
      "text/plain": [
       "0.1861"
      ]
     },
     "execution_count": 119,
     "metadata": {},
     "output_type": "execute_result"
    }
   ],
   "source": [
    "p_pool_day7 = round((retention_day_7['gate_30'] + retention_day_7['gate_40'])/(user_table_day7['gate_30']+user_table_day7['gate_40']),4)\n",
    "p_pool_day7"
   ]
  },
  {
   "cell_type": "code",
   "execution_count": 120,
   "metadata": {
    "collapsed": false
   },
   "outputs": [
    {
     "data": {
      "text/plain": [
       "0.0026"
      ]
     },
     "execution_count": 120,
     "metadata": {},
     "output_type": "execute_result"
    }
   ],
   "source": [
    "se_pool_day7=round(mt.sqrt(p_pool_day7*(1-p_pool_day7)*((1/user_table_day7['gate_30']) + (1/user_table_day7['gate_40']))),4)\n",
    "se_pool_day7"
   ]
  },
  {
   "cell_type": "code",
   "execution_count": 94,
   "metadata": {
    "collapsed": false
   },
   "outputs": [
    {
     "data": {
      "text/plain": [
       "0.005096"
      ]
     },
     "execution_count": 94,
     "metadata": {},
     "output_type": "execute_result"
    }
   ],
   "source": [
    "# For 95% confidence interval the value of Z is 1.96\n",
    "Marginal_Error_day7=z*se_pool_day7\n",
    "Marginal_Error_day7"
   ]
  },
  {
   "cell_type": "code",
   "execution_count": 97,
   "metadata": {
    "collapsed": false
   },
   "outputs": [
    {
     "data": {
      "text/plain": [
       "-0.0082"
      ]
     },
     "execution_count": 97,
     "metadata": {},
     "output_type": "execute_result"
    }
   ],
   "source": [
    "p_difference = round((retention_gate_40_day7-retention_gate_30_day7),4)\n",
    "p_difference"
   ]
  },
  {
   "cell_type": "code",
   "execution_count": 98,
   "metadata": {
    "collapsed": false
   },
   "outputs": [
    {
     "data": {
      "text/plain": [
       "-0.013296"
      ]
     },
     "execution_count": 98,
     "metadata": {},
     "output_type": "execute_result"
    }
   ],
   "source": [
    "t_statistic_7=p_difference-Marginal_Error_day7\n",
    "t_statistic_7"
   ]
  },
  {
   "cell_type": "code",
   "execution_count": 99,
   "metadata": {
    "collapsed": false
   },
   "outputs": [
    {
     "name": "stdout",
     "output_type": "stream",
     "text": [
      "('The confidence interval is', -0.013296, 'and', -0.003104000000000001)\n"
     ]
    }
   ],
   "source": [
    "print (\"The confidence interval is\" ,p_difference-Marginal_Error_day7 ,\"and\", p_difference+Marginal_Error_day7,)"
   ]
  },
  {
   "cell_type": "code",
   "execution_count": 127,
   "metadata": {
    "collapsed": false
   },
   "outputs": [
    {
     "name": "stdout",
     "output_type": "stream",
     "text": [
      "Control ia better than the Experiment. Hence, No need to make changes \n"
     ]
    }
   ],
   "source": [
    "if t_statistic>0.05:\n",
    "    print(\"Experiment performed better than control. It is statistically and practically significant\")\n",
    "elif t_statistic>0:\n",
    "    print(\"Experiment performed better than control.It is statistically singnificant but not practically\")\n",
    "elif t_statistic<0:\n",
    "    print(\"Control ia better than the Experiment. Hence, No need to make changes \")"
   ]
  },
  {
   "cell_type": "code",
   "execution_count": 128,
   "metadata": {
    "collapsed": false
   },
   "outputs": [
    {
     "data": {
      "text/plain": [
       "-2.269230769230769"
      ]
     },
     "execution_count": 128,
     "metadata": {},
     "output_type": "execute_result"
    }
   ],
   "source": [
    "#Cohen's d\n",
    "d=p_difference/se_pool_day7\n",
    "d"
   ]
  }
 ],
 "metadata": {
  "kernelspec": {
   "display_name": "Python 2",
   "language": "python",
   "name": "python2"
  },
  "language_info": {
   "codemirror_mode": {
    "name": "ipython",
    "version": 2
   },
   "file_extension": ".py",
   "mimetype": "text/x-python",
   "name": "python",
   "nbconvert_exporter": "python",
   "pygments_lexer": "ipython2",
   "version": "2.7.11"
  }
 },
 "nbformat": 4,
 "nbformat_minor": 1
}
